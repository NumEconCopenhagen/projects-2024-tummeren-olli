{
 "cells": [
  {
   "cell_type": "markdown",
   "metadata": {},
   "source": [
    "# Uneployment rate in different areas in Denmark\n"
   ]
  },
  {
   "attachments": {},
   "cell_type": "markdown",
   "metadata": {},
   "source": [
    "> **Note the following:** \n",
    "> 1. This is *not* meant to be an example of an actual **data analysis project**, just an example of how to structure such a project.\n",
    "> 1. Remember the general advice on structuring and commenting your code\n",
    "> 1. The `dataproject.py` file includes a function which can be used multiple times in this notebook."
   ]
  },
  {
   "cell_type": "markdown",
   "metadata": {},
   "source": [
    "Imports and set magics:"
   ]
  },
  {
   "cell_type": "code",
   "execution_count": 54,
   "metadata": {},
   "outputs": [
    {
     "name": "stdout",
     "output_type": "stream",
     "text": [
      "The autoreload extension is already loaded. To reload it, use:\n",
      "  %reload_ext autoreload\n"
     ]
    }
   ],
   "source": [
    "import pandas as pd\n",
    "import numpy as np\n",
    "import matplotlib.pyplot as plt\n",
    "import ipywidgets as widgets\n",
    "from matplotlib_venn import venn2\n",
    "\n",
    "# autoreload modules when code is run\n",
    "%load_ext autoreload\n",
    "%autoreload 2\n",
    "\n",
    "# user written modules\n",
    "import dataproject\n"
   ]
  },
  {
   "cell_type": "markdown",
   "metadata": {},
   "source": [
    "# Read and clean data"
   ]
  },
  {
   "cell_type": "markdown",
   "metadata": {},
   "source": [
    "Import your data, either through an API or manually, and load it. "
   ]
  },
  {
   "cell_type": "markdown",
   "metadata": {},
   "source": [
    "First off, we want to imprt the Api we should use. "
   ]
  },
  {
   "cell_type": "code",
   "execution_count": 55,
   "metadata": {},
   "outputs": [],
   "source": [
    "from dstapi import DstApi"
   ]
  },
  {
   "cell_type": "markdown",
   "metadata": {},
   "source": [
    "We can now take our desired table, AUL01. This table contains data of full-time unemployed by area, benefit type, unemployment insurance fund, age and gender."
   ]
  },
  {
   "cell_type": "code",
   "execution_count": 56,
   "metadata": {},
   "outputs": [],
   "source": [
    "unemp = DstApi('AUL01') "
   ]
  },
  {
   "cell_type": "markdown",
   "metadata": {},
   "source": [
    "## Explore each data set"
   ]
  },
  {
   "cell_type": "markdown",
   "metadata": {},
   "source": [
    "In order to be able to **explore the raw data**, you may provide **static** and **interactive plots** to show important developments "
   ]
  },
  {
   "cell_type": "markdown",
   "metadata": {},
   "source": [
    "To start off, we would like a look at the data available in our table"
   ]
  },
  {
   "cell_type": "code",
   "execution_count": 57,
   "metadata": {},
   "outputs": [
    {
     "name": "stdout",
     "output_type": "stream",
     "text": [
      "Table AUL01: Full-time unemployed persons by region, type of benefits, unemployment insurance fund, age, sex and time\n",
      "Last update: 2023-04-14T08:00:00\n"
     ]
    },
    {
     "data": {
      "text/html": [
       "<div>\n",
       "<style scoped>\n",
       "    .dataframe tbody tr th:only-of-type {\n",
       "        vertical-align: middle;\n",
       "    }\n",
       "\n",
       "    .dataframe tbody tr th {\n",
       "        vertical-align: top;\n",
       "    }\n",
       "\n",
       "    .dataframe thead th {\n",
       "        text-align: right;\n",
       "    }\n",
       "</style>\n",
       "<table border=\"1\" class=\"dataframe\">\n",
       "  <thead>\n",
       "    <tr style=\"text-align: right;\">\n",
       "      <th></th>\n",
       "      <th>variable name</th>\n",
       "      <th># values</th>\n",
       "      <th>First value</th>\n",
       "      <th>First value label</th>\n",
       "      <th>Last value</th>\n",
       "      <th>Last value label</th>\n",
       "      <th>Time variable</th>\n",
       "    </tr>\n",
       "  </thead>\n",
       "  <tbody>\n",
       "    <tr>\n",
       "      <th>0</th>\n",
       "      <td>OMRÅDE</td>\n",
       "      <td>117</td>\n",
       "      <td>000</td>\n",
       "      <td>All Denmark</td>\n",
       "      <td>997</td>\n",
       "      <td>Abroad</td>\n",
       "      <td>False</td>\n",
       "    </tr>\n",
       "    <tr>\n",
       "      <th>1</th>\n",
       "      <td>YDELSESTYPE</td>\n",
       "      <td>5</td>\n",
       "      <td>TOT</td>\n",
       "      <td>Gross unemployment</td>\n",
       "      <td>AKT</td>\n",
       "      <td>Activation of persons on social assistance (pr...</td>\n",
       "      <td>False</td>\n",
       "    </tr>\n",
       "    <tr>\n",
       "      <th>2</th>\n",
       "      <td>AKASSE</td>\n",
       "      <td>47</td>\n",
       "      <td>TOT</td>\n",
       "      <td>Total</td>\n",
       "      <td>45</td>\n",
       "      <td>Ikke forsikrede</td>\n",
       "      <td>False</td>\n",
       "    </tr>\n",
       "    <tr>\n",
       "      <th>3</th>\n",
       "      <td>ALDER</td>\n",
       "      <td>10</td>\n",
       "      <td>TOT</td>\n",
       "      <td>Age, total</td>\n",
       "      <td>6099</td>\n",
       "      <td>60 year and over</td>\n",
       "      <td>False</td>\n",
       "    </tr>\n",
       "    <tr>\n",
       "      <th>4</th>\n",
       "      <td>KØN</td>\n",
       "      <td>3</td>\n",
       "      <td>TOT</td>\n",
       "      <td>Total</td>\n",
       "      <td>K</td>\n",
       "      <td>Women</td>\n",
       "      <td>False</td>\n",
       "    </tr>\n",
       "    <tr>\n",
       "      <th>5</th>\n",
       "      <td>Tid</td>\n",
       "      <td>16</td>\n",
       "      <td>2007</td>\n",
       "      <td>2007</td>\n",
       "      <td>2022</td>\n",
       "      <td>2022</td>\n",
       "      <td>True</td>\n",
       "    </tr>\n",
       "  </tbody>\n",
       "</table>\n",
       "</div>"
      ],
      "text/plain": [
       "  variable name  # values First value   First value label Last value  \\\n",
       "0        OMRÅDE       117         000         All Denmark        997   \n",
       "1   YDELSESTYPE         5         TOT  Gross unemployment        AKT   \n",
       "2        AKASSE        47         TOT               Total         45   \n",
       "3         ALDER        10         TOT          Age, total       6099   \n",
       "4           KØN         3         TOT               Total          K   \n",
       "5           Tid        16        2007                2007       2022   \n",
       "\n",
       "                                    Last value label  Time variable  \n",
       "0                                             Abroad          False  \n",
       "1  Activation of persons on social assistance (pr...          False  \n",
       "2                                    Ikke forsikrede          False  \n",
       "3                                   60 year and over          False  \n",
       "4                                              Women          False  \n",
       "5                                               2022           True  "
      ]
     },
     "metadata": {},
     "output_type": "display_data"
    }
   ],
   "source": [
    "tabsum = unemp.tablesummary(language='en')\n",
    "display(tabsum)"
   ]
  },
  {
   "cell_type": "markdown",
   "metadata": {},
   "source": [
    "We will now take a closer look, at the available values for a each variable, before actually choosing \n",
    "which variables we would like to use in our analysis.\n"
   ]
  },
  {
   "cell_type": "code",
   "execution_count": 58,
   "metadata": {},
   "outputs": [
    {
     "name": "stdout",
     "output_type": "stream",
     "text": [
      "OMRÅDE:\n"
     ]
    },
    {
     "data": {
      "text/html": [
       "<div>\n",
       "<style scoped>\n",
       "    .dataframe tbody tr th:only-of-type {\n",
       "        vertical-align: middle;\n",
       "    }\n",
       "\n",
       "    .dataframe tbody tr th {\n",
       "        vertical-align: top;\n",
       "    }\n",
       "\n",
       "    .dataframe thead th {\n",
       "        text-align: right;\n",
       "    }\n",
       "</style>\n",
       "<table border=\"1\" class=\"dataframe\">\n",
       "  <thead>\n",
       "    <tr style=\"text-align: right;\">\n",
       "      <th></th>\n",
       "      <th>id</th>\n",
       "      <th>text</th>\n",
       "    </tr>\n",
       "  </thead>\n",
       "  <tbody>\n",
       "    <tr>\n",
       "      <th>0</th>\n",
       "      <td>000</td>\n",
       "      <td>All Denmark</td>\n",
       "    </tr>\n",
       "    <tr>\n",
       "      <th>1</th>\n",
       "      <td>084</td>\n",
       "      <td>Region Hovedstaden</td>\n",
       "    </tr>\n",
       "    <tr>\n",
       "      <th>2</th>\n",
       "      <td>01</td>\n",
       "      <td>Province Byen København</td>\n",
       "    </tr>\n",
       "    <tr>\n",
       "      <th>3</th>\n",
       "      <td>101</td>\n",
       "      <td>Copenhagen</td>\n",
       "    </tr>\n",
       "    <tr>\n",
       "      <th>4</th>\n",
       "      <td>147</td>\n",
       "      <td>Frederiksberg</td>\n",
       "    </tr>\n",
       "    <tr>\n",
       "      <th>...</th>\n",
       "      <td>...</td>\n",
       "      <td>...</td>\n",
       "    </tr>\n",
       "    <tr>\n",
       "      <th>112</th>\n",
       "      <td>787</td>\n",
       "      <td>Thisted</td>\n",
       "    </tr>\n",
       "    <tr>\n",
       "      <th>113</th>\n",
       "      <td>820</td>\n",
       "      <td>Vesthimmerlands</td>\n",
       "    </tr>\n",
       "    <tr>\n",
       "      <th>114</th>\n",
       "      <td>851</td>\n",
       "      <td>Aalborg</td>\n",
       "    </tr>\n",
       "    <tr>\n",
       "      <th>115</th>\n",
       "      <td>998</td>\n",
       "      <td>Unknown municipality</td>\n",
       "    </tr>\n",
       "    <tr>\n",
       "      <th>116</th>\n",
       "      <td>997</td>\n",
       "      <td>Abroad</td>\n",
       "    </tr>\n",
       "  </tbody>\n",
       "</table>\n",
       "<p>117 rows × 2 columns</p>\n",
       "</div>"
      ],
      "text/plain": [
       "      id                     text\n",
       "0    000              All Denmark\n",
       "1    084       Region Hovedstaden\n",
       "2     01  Province Byen København\n",
       "3    101               Copenhagen\n",
       "4    147            Frederiksberg\n",
       "..   ...                      ...\n",
       "112  787                  Thisted\n",
       "113  820          Vesthimmerlands\n",
       "114  851                  Aalborg\n",
       "115  998     Unknown municipality\n",
       "116  997                   Abroad\n",
       "\n",
       "[117 rows x 2 columns]"
      ]
     },
     "metadata": {},
     "output_type": "display_data"
    },
    {
     "name": "stdout",
     "output_type": "stream",
     "text": [
      "YDELSESTYPE:\n"
     ]
    },
    {
     "data": {
      "text/html": [
       "<div>\n",
       "<style scoped>\n",
       "    .dataframe tbody tr th:only-of-type {\n",
       "        vertical-align: middle;\n",
       "    }\n",
       "\n",
       "    .dataframe tbody tr th {\n",
       "        vertical-align: top;\n",
       "    }\n",
       "\n",
       "    .dataframe thead th {\n",
       "        text-align: right;\n",
       "    }\n",
       "</style>\n",
       "<table border=\"1\" class=\"dataframe\">\n",
       "  <thead>\n",
       "    <tr style=\"text-align: right;\">\n",
       "      <th></th>\n",
       "      <th>id</th>\n",
       "      <th>text</th>\n",
       "    </tr>\n",
       "  </thead>\n",
       "  <tbody>\n",
       "    <tr>\n",
       "      <th>0</th>\n",
       "      <td>TOT</td>\n",
       "      <td>Gross unemployment</td>\n",
       "    </tr>\n",
       "    <tr>\n",
       "      <th>1</th>\n",
       "      <td>LDP</td>\n",
       "      <td>Net unemployed recipients of unemployment bene...</td>\n",
       "    </tr>\n",
       "    <tr>\n",
       "      <th>2</th>\n",
       "      <td>LKT</td>\n",
       "      <td>Net unemployed recipients of social assistance</td>\n",
       "    </tr>\n",
       "    <tr>\n",
       "      <th>3</th>\n",
       "      <td>ADP</td>\n",
       "      <td>Activation of persons on unemployment benefits</td>\n",
       "    </tr>\n",
       "    <tr>\n",
       "      <th>4</th>\n",
       "      <td>AKT</td>\n",
       "      <td>Activation of persons on social assistance (pr...</td>\n",
       "    </tr>\n",
       "  </tbody>\n",
       "</table>\n",
       "</div>"
      ],
      "text/plain": [
       "    id                                               text\n",
       "0  TOT                                 Gross unemployment\n",
       "1  LDP  Net unemployed recipients of unemployment bene...\n",
       "2  LKT     Net unemployed recipients of social assistance\n",
       "3  ADP     Activation of persons on unemployment benefits\n",
       "4  AKT  Activation of persons on social assistance (pr..."
      ]
     },
     "metadata": {},
     "output_type": "display_data"
    },
    {
     "name": "stdout",
     "output_type": "stream",
     "text": [
      "AKASSE:\n"
     ]
    },
    {
     "data": {
      "text/html": [
       "<div>\n",
       "<style scoped>\n",
       "    .dataframe tbody tr th:only-of-type {\n",
       "        vertical-align: middle;\n",
       "    }\n",
       "\n",
       "    .dataframe tbody tr th {\n",
       "        vertical-align: top;\n",
       "    }\n",
       "\n",
       "    .dataframe thead th {\n",
       "        text-align: right;\n",
       "    }\n",
       "</style>\n",
       "<table border=\"1\" class=\"dataframe\">\n",
       "  <thead>\n",
       "    <tr style=\"text-align: right;\">\n",
       "      <th></th>\n",
       "      <th>id</th>\n",
       "      <th>text</th>\n",
       "    </tr>\n",
       "  </thead>\n",
       "  <tbody>\n",
       "    <tr>\n",
       "      <th>0</th>\n",
       "      <td>TOT</td>\n",
       "      <td>Total</td>\n",
       "    </tr>\n",
       "    <tr>\n",
       "      <th>1</th>\n",
       "      <td>48</td>\n",
       "      <td>Akademikernes (fra 1. juli 2013 inkl. ingeniører)</td>\n",
       "    </tr>\n",
       "    <tr>\n",
       "      <th>2</th>\n",
       "      <td>46</td>\n",
       "      <td>Din Faglige A-kasse (fra 1. januar 2021 inkl. ...</td>\n",
       "    </tr>\n",
       "    <tr>\n",
       "      <th>3</th>\n",
       "      <td>05</td>\n",
       "      <td>Børne- og Ungdomspædagoger (BUPL-A)</td>\n",
       "    </tr>\n",
       "    <tr>\n",
       "      <th>4</th>\n",
       "      <td>06</td>\n",
       "      <td>Din Sundhedsfaglige A-kasse (DSA)</td>\n",
       "    </tr>\n",
       "    <tr>\n",
       "      <th>5</th>\n",
       "      <td>40</td>\n",
       "      <td>Det Faglige Hus A-kasse</td>\n",
       "    </tr>\n",
       "    <tr>\n",
       "      <th>6</th>\n",
       "      <td>44</td>\n",
       "      <td>Fag og Arbejde (FOA)</td>\n",
       "    </tr>\n",
       "    <tr>\n",
       "      <th>7</th>\n",
       "      <td>43</td>\n",
       "      <td>Faglig Fælles a-kasse (3F)</td>\n",
       "    </tr>\n",
       "    <tr>\n",
       "      <th>8</th>\n",
       "      <td>11</td>\n",
       "      <td>A-kassen Frie (fra 1. januar 2020 inkl. DANA)</td>\n",
       "    </tr>\n",
       "    <tr>\n",
       "      <th>9</th>\n",
       "      <td>13</td>\n",
       "      <td>Funktionærer og Tjenestemænd (FTF-A)</td>\n",
       "    </tr>\n",
       "    <tr>\n",
       "      <th>10</th>\n",
       "      <td>27</td>\n",
       "      <td>Fødevareforbundet (NNF)</td>\n",
       "    </tr>\n",
       "    <tr>\n",
       "      <th>11</th>\n",
       "      <td>15</td>\n",
       "      <td>Handels- og Kontorfunktionærer (HK)</td>\n",
       "    </tr>\n",
       "    <tr>\n",
       "      <th>12</th>\n",
       "      <td>41</td>\n",
       "      <td>Journalistik, Kommunikation og Sprog</td>\n",
       "    </tr>\n",
       "    <tr>\n",
       "      <th>13</th>\n",
       "      <td>19</td>\n",
       "      <td>Kristelig a-kasse</td>\n",
       "    </tr>\n",
       "    <tr>\n",
       "      <th>14</th>\n",
       "      <td>21</td>\n",
       "      <td>Ledere</td>\n",
       "    </tr>\n",
       "    <tr>\n",
       "      <th>15</th>\n",
       "      <td>22</td>\n",
       "      <td>Lærere (DLF-A)</td>\n",
       "    </tr>\n",
       "    <tr>\n",
       "      <th>16</th>\n",
       "      <td>23</td>\n",
       "      <td>Magistre (MA)</td>\n",
       "    </tr>\n",
       "    <tr>\n",
       "      <th>17</th>\n",
       "      <td>26</td>\n",
       "      <td>Metalarbejdere</td>\n",
       "    </tr>\n",
       "    <tr>\n",
       "      <th>18</th>\n",
       "      <td>49</td>\n",
       "      <td>Min akasse (jan. 2017 - inkl. Funktionærer og ...</td>\n",
       "    </tr>\n",
       "    <tr>\n",
       "      <th>19</th>\n",
       "      <td>31</td>\n",
       "      <td>Selvstændige Erhvervsdrivende (ASE)</td>\n",
       "    </tr>\n",
       "    <tr>\n",
       "      <th>20</th>\n",
       "      <td>33</td>\n",
       "      <td>Socialpædagoger (SLA)</td>\n",
       "    </tr>\n",
       "    <tr>\n",
       "      <th>21</th>\n",
       "      <td>36</td>\n",
       "      <td>Teknikere</td>\n",
       "    </tr>\n",
       "    <tr>\n",
       "      <th>22</th>\n",
       "      <td>39</td>\n",
       "      <td>Økonomer (CA)</td>\n",
       "    </tr>\n",
       "    <tr>\n",
       "      <th>23</th>\n",
       "      <td>07</td>\n",
       "      <td>El-faget (- dec. 2020)</td>\n",
       "    </tr>\n",
       "    <tr>\n",
       "      <th>24</th>\n",
       "      <td>30</td>\n",
       "      <td>Selvstændige (DANA) (- dec. 2019)</td>\n",
       "    </tr>\n",
       "    <tr>\n",
       "      <th>25</th>\n",
       "      <td>12</td>\n",
       "      <td>Funktionærer og Servicefag ( - dec. 2016)</td>\n",
       "    </tr>\n",
       "    <tr>\n",
       "      <th>26</th>\n",
       "      <td>04</td>\n",
       "      <td>Business ( - dec. 2014)</td>\n",
       "    </tr>\n",
       "    <tr>\n",
       "      <th>27</th>\n",
       "      <td>47</td>\n",
       "      <td>Min akasse ( - dec. 2014)</td>\n",
       "    </tr>\n",
       "    <tr>\n",
       "      <th>28</th>\n",
       "      <td>01</td>\n",
       "      <td>Akademikere (AAK) (- juni 2013)</td>\n",
       "    </tr>\n",
       "    <tr>\n",
       "      <th>29</th>\n",
       "      <td>16</td>\n",
       "      <td>Ingeniører (IAK) (- juni 2013)</td>\n",
       "    </tr>\n",
       "    <tr>\n",
       "      <th>30</th>\n",
       "      <td>17</td>\n",
       "      <td>IT-faget og Merkonomer (PROSA) (-juni 2010)</td>\n",
       "    </tr>\n",
       "    <tr>\n",
       "      <th>31</th>\n",
       "      <td>35</td>\n",
       "      <td>Stats- og Teleansatte (STA) (-juni 2010)</td>\n",
       "    </tr>\n",
       "    <tr>\n",
       "      <th>32</th>\n",
       "      <td>38</td>\n",
       "      <td>Træ-Industri-Byg (TIB) ( - dec. 2010)</td>\n",
       "    </tr>\n",
       "    <tr>\n",
       "      <th>33</th>\n",
       "      <td>03</td>\n",
       "      <td>Blik- og rør (-dec. 2007)</td>\n",
       "    </tr>\n",
       "    <tr>\n",
       "      <th>34</th>\n",
       "      <td>42</td>\n",
       "      <td>Malerfaget og Maritime (- dec. 2007)</td>\n",
       "    </tr>\n",
       "    <tr>\n",
       "      <th>35</th>\n",
       "      <td>29</td>\n",
       "      <td>RestaurationsBranchen (- jini 2006)</td>\n",
       "    </tr>\n",
       "    <tr>\n",
       "      <th>36</th>\n",
       "      <td>28</td>\n",
       "      <td>Pædagogmedhjælpere (PMF-A) (- dec. 2005)</td>\n",
       "    </tr>\n",
       "    <tr>\n",
       "      <th>37</th>\n",
       "      <td>20</td>\n",
       "      <td>Kvindelige Arbejdere (KAD) (- dec. 2004)</td>\n",
       "    </tr>\n",
       "    <tr>\n",
       "      <th>38</th>\n",
       "      <td>34</td>\n",
       "      <td>Specialarbejdere (SID) (- dec. 2004)</td>\n",
       "    </tr>\n",
       "    <tr>\n",
       "      <th>39</th>\n",
       "      <td>08</td>\n",
       "      <td>Erhvervssproglige (- dec. 2002)</td>\n",
       "    </tr>\n",
       "    <tr>\n",
       "      <th>40</th>\n",
       "      <td>18</td>\n",
       "      <td>Journalister (- dec. 2002)</td>\n",
       "    </tr>\n",
       "    <tr>\n",
       "      <th>41</th>\n",
       "      <td>24</td>\n",
       "      <td>Malersvende (- dec. 2002)</td>\n",
       "    </tr>\n",
       "    <tr>\n",
       "      <th>42</th>\n",
       "      <td>25</td>\n",
       "      <td>Maritim a-kasse (- dec. 2002)</td>\n",
       "    </tr>\n",
       "    <tr>\n",
       "      <th>43</th>\n",
       "      <td>09</td>\n",
       "      <td>Forsvarets a-kasse (- dec. 2001)</td>\n",
       "    </tr>\n",
       "    <tr>\n",
       "      <th>44</th>\n",
       "      <td>10</td>\n",
       "      <td>Frisører, Artister og Maritim (- dec. 2001)</td>\n",
       "    </tr>\n",
       "    <tr>\n",
       "      <th>45</th>\n",
       "      <td>14</td>\n",
       "      <td>Grafisk a-kasse (- dec. 1999)</td>\n",
       "    </tr>\n",
       "    <tr>\n",
       "      <th>46</th>\n",
       "      <td>45</td>\n",
       "      <td>Ikke forsikrede</td>\n",
       "    </tr>\n",
       "  </tbody>\n",
       "</table>\n",
       "</div>"
      ],
      "text/plain": [
       "     id                                               text\n",
       "0   TOT                                              Total\n",
       "1    48  Akademikernes (fra 1. juli 2013 inkl. ingeniører)\n",
       "2    46  Din Faglige A-kasse (fra 1. januar 2021 inkl. ...\n",
       "3    05                Børne- og Ungdomspædagoger (BUPL-A)\n",
       "4    06                  Din Sundhedsfaglige A-kasse (DSA)\n",
       "5    40                            Det Faglige Hus A-kasse\n",
       "6    44                               Fag og Arbejde (FOA)\n",
       "7    43                         Faglig Fælles a-kasse (3F)\n",
       "8    11      A-kassen Frie (fra 1. januar 2020 inkl. DANA)\n",
       "9    13               Funktionærer og Tjenestemænd (FTF-A)\n",
       "10   27                            Fødevareforbundet (NNF)\n",
       "11   15                Handels- og Kontorfunktionærer (HK)\n",
       "12   41               Journalistik, Kommunikation og Sprog\n",
       "13   19                                  Kristelig a-kasse\n",
       "14   21                                             Ledere\n",
       "15   22                                     Lærere (DLF-A)\n",
       "16   23                                      Magistre (MA)\n",
       "17   26                                     Metalarbejdere\n",
       "18   49  Min akasse (jan. 2017 - inkl. Funktionærer og ...\n",
       "19   31                Selvstændige Erhvervsdrivende (ASE)\n",
       "20   33                              Socialpædagoger (SLA)\n",
       "21   36                                          Teknikere\n",
       "22   39                                      Økonomer (CA)\n",
       "23   07                             El-faget (- dec. 2020)\n",
       "24   30                  Selvstændige (DANA) (- dec. 2019)\n",
       "25   12          Funktionærer og Servicefag ( - dec. 2016)\n",
       "26   04                            Business ( - dec. 2014)\n",
       "27   47                          Min akasse ( - dec. 2014)\n",
       "28   01                    Akademikere (AAK) (- juni 2013)\n",
       "29   16                     Ingeniører (IAK) (- juni 2013)\n",
       "30   17        IT-faget og Merkonomer (PROSA) (-juni 2010)\n",
       "31   35           Stats- og Teleansatte (STA) (-juni 2010)\n",
       "32   38              Træ-Industri-Byg (TIB) ( - dec. 2010)\n",
       "33   03                          Blik- og rør (-dec. 2007)\n",
       "34   42               Malerfaget og Maritime (- dec. 2007)\n",
       "35   29                RestaurationsBranchen (- jini 2006)\n",
       "36   28           Pædagogmedhjælpere (PMF-A) (- dec. 2005)\n",
       "37   20           Kvindelige Arbejdere (KAD) (- dec. 2004)\n",
       "38   34               Specialarbejdere (SID) (- dec. 2004)\n",
       "39   08                    Erhvervssproglige (- dec. 2002)\n",
       "40   18                         Journalister (- dec. 2002)\n",
       "41   24                          Malersvende (- dec. 2002)\n",
       "42   25                      Maritim a-kasse (- dec. 2002)\n",
       "43   09                   Forsvarets a-kasse (- dec. 2001)\n",
       "44   10        Frisører, Artister og Maritim (- dec. 2001)\n",
       "45   14                      Grafisk a-kasse (- dec. 1999)\n",
       "46   45                                    Ikke forsikrede"
      ]
     },
     "metadata": {},
     "output_type": "display_data"
    },
    {
     "name": "stdout",
     "output_type": "stream",
     "text": [
      "ALDER:\n"
     ]
    },
    {
     "data": {
      "text/html": [
       "<div>\n",
       "<style scoped>\n",
       "    .dataframe tbody tr th:only-of-type {\n",
       "        vertical-align: middle;\n",
       "    }\n",
       "\n",
       "    .dataframe tbody tr th {\n",
       "        vertical-align: top;\n",
       "    }\n",
       "\n",
       "    .dataframe thead th {\n",
       "        text-align: right;\n",
       "    }\n",
       "</style>\n",
       "<table border=\"1\" class=\"dataframe\">\n",
       "  <thead>\n",
       "    <tr style=\"text-align: right;\">\n",
       "      <th></th>\n",
       "      <th>id</th>\n",
       "      <th>text</th>\n",
       "    </tr>\n",
       "  </thead>\n",
       "  <tbody>\n",
       "    <tr>\n",
       "      <th>0</th>\n",
       "      <td>TOT</td>\n",
       "      <td>Age, total</td>\n",
       "    </tr>\n",
       "    <tr>\n",
       "      <th>1</th>\n",
       "      <td>16-24</td>\n",
       "      <td>16-24 years</td>\n",
       "    </tr>\n",
       "    <tr>\n",
       "      <th>2</th>\n",
       "      <td>25-29</td>\n",
       "      <td>25-29 years</td>\n",
       "    </tr>\n",
       "    <tr>\n",
       "      <th>3</th>\n",
       "      <td>30-34</td>\n",
       "      <td>30-34 years</td>\n",
       "    </tr>\n",
       "    <tr>\n",
       "      <th>4</th>\n",
       "      <td>35-39</td>\n",
       "      <td>35-39 years</td>\n",
       "    </tr>\n",
       "    <tr>\n",
       "      <th>5</th>\n",
       "      <td>40-44</td>\n",
       "      <td>40-44 years</td>\n",
       "    </tr>\n",
       "    <tr>\n",
       "      <th>6</th>\n",
       "      <td>45-49</td>\n",
       "      <td>45-49 years</td>\n",
       "    </tr>\n",
       "    <tr>\n",
       "      <th>7</th>\n",
       "      <td>50-54</td>\n",
       "      <td>50-54 years</td>\n",
       "    </tr>\n",
       "    <tr>\n",
       "      <th>8</th>\n",
       "      <td>55-59</td>\n",
       "      <td>55-59 years</td>\n",
       "    </tr>\n",
       "    <tr>\n",
       "      <th>9</th>\n",
       "      <td>6099</td>\n",
       "      <td>60 year and over</td>\n",
       "    </tr>\n",
       "  </tbody>\n",
       "</table>\n",
       "</div>"
      ],
      "text/plain": [
       "      id              text\n",
       "0    TOT        Age, total\n",
       "1  16-24       16-24 years\n",
       "2  25-29       25-29 years\n",
       "3  30-34       30-34 years\n",
       "4  35-39       35-39 years\n",
       "5  40-44       40-44 years\n",
       "6  45-49       45-49 years\n",
       "7  50-54       50-54 years\n",
       "8  55-59       55-59 years\n",
       "9   6099  60 year and over"
      ]
     },
     "metadata": {},
     "output_type": "display_data"
    },
    {
     "name": "stdout",
     "output_type": "stream",
     "text": [
      "KØN:\n"
     ]
    },
    {
     "data": {
      "text/html": [
       "<div>\n",
       "<style scoped>\n",
       "    .dataframe tbody tr th:only-of-type {\n",
       "        vertical-align: middle;\n",
       "    }\n",
       "\n",
       "    .dataframe tbody tr th {\n",
       "        vertical-align: top;\n",
       "    }\n",
       "\n",
       "    .dataframe thead th {\n",
       "        text-align: right;\n",
       "    }\n",
       "</style>\n",
       "<table border=\"1\" class=\"dataframe\">\n",
       "  <thead>\n",
       "    <tr style=\"text-align: right;\">\n",
       "      <th></th>\n",
       "      <th>id</th>\n",
       "      <th>text</th>\n",
       "    </tr>\n",
       "  </thead>\n",
       "  <tbody>\n",
       "    <tr>\n",
       "      <th>0</th>\n",
       "      <td>TOT</td>\n",
       "      <td>Total</td>\n",
       "    </tr>\n",
       "    <tr>\n",
       "      <th>1</th>\n",
       "      <td>M</td>\n",
       "      <td>Men</td>\n",
       "    </tr>\n",
       "    <tr>\n",
       "      <th>2</th>\n",
       "      <td>K</td>\n",
       "      <td>Women</td>\n",
       "    </tr>\n",
       "  </tbody>\n",
       "</table>\n",
       "</div>"
      ],
      "text/plain": [
       "    id   text\n",
       "0  TOT  Total\n",
       "1    M    Men\n",
       "2    K  Women"
      ]
     },
     "metadata": {},
     "output_type": "display_data"
    },
    {
     "name": "stdout",
     "output_type": "stream",
     "text": [
      "Tid:\n"
     ]
    },
    {
     "data": {
      "text/html": [
       "<div>\n",
       "<style scoped>\n",
       "    .dataframe tbody tr th:only-of-type {\n",
       "        vertical-align: middle;\n",
       "    }\n",
       "\n",
       "    .dataframe tbody tr th {\n",
       "        vertical-align: top;\n",
       "    }\n",
       "\n",
       "    .dataframe thead th {\n",
       "        text-align: right;\n",
       "    }\n",
       "</style>\n",
       "<table border=\"1\" class=\"dataframe\">\n",
       "  <thead>\n",
       "    <tr style=\"text-align: right;\">\n",
       "      <th></th>\n",
       "      <th>id</th>\n",
       "      <th>text</th>\n",
       "    </tr>\n",
       "  </thead>\n",
       "  <tbody>\n",
       "    <tr>\n",
       "      <th>0</th>\n",
       "      <td>2007</td>\n",
       "      <td>2007</td>\n",
       "    </tr>\n",
       "    <tr>\n",
       "      <th>1</th>\n",
       "      <td>2008</td>\n",
       "      <td>2008</td>\n",
       "    </tr>\n",
       "    <tr>\n",
       "      <th>2</th>\n",
       "      <td>2009</td>\n",
       "      <td>2009</td>\n",
       "    </tr>\n",
       "    <tr>\n",
       "      <th>3</th>\n",
       "      <td>2010</td>\n",
       "      <td>2010</td>\n",
       "    </tr>\n",
       "    <tr>\n",
       "      <th>4</th>\n",
       "      <td>2011</td>\n",
       "      <td>2011</td>\n",
       "    </tr>\n",
       "    <tr>\n",
       "      <th>5</th>\n",
       "      <td>2012</td>\n",
       "      <td>2012</td>\n",
       "    </tr>\n",
       "    <tr>\n",
       "      <th>6</th>\n",
       "      <td>2013</td>\n",
       "      <td>2013</td>\n",
       "    </tr>\n",
       "    <tr>\n",
       "      <th>7</th>\n",
       "      <td>2014</td>\n",
       "      <td>2014</td>\n",
       "    </tr>\n",
       "    <tr>\n",
       "      <th>8</th>\n",
       "      <td>2015</td>\n",
       "      <td>2015</td>\n",
       "    </tr>\n",
       "    <tr>\n",
       "      <th>9</th>\n",
       "      <td>2016</td>\n",
       "      <td>2016</td>\n",
       "    </tr>\n",
       "    <tr>\n",
       "      <th>10</th>\n",
       "      <td>2017</td>\n",
       "      <td>2017</td>\n",
       "    </tr>\n",
       "    <tr>\n",
       "      <th>11</th>\n",
       "      <td>2018</td>\n",
       "      <td>2018</td>\n",
       "    </tr>\n",
       "    <tr>\n",
       "      <th>12</th>\n",
       "      <td>2019</td>\n",
       "      <td>2019</td>\n",
       "    </tr>\n",
       "    <tr>\n",
       "      <th>13</th>\n",
       "      <td>2020</td>\n",
       "      <td>2020</td>\n",
       "    </tr>\n",
       "    <tr>\n",
       "      <th>14</th>\n",
       "      <td>2021</td>\n",
       "      <td>2021</td>\n",
       "    </tr>\n",
       "    <tr>\n",
       "      <th>15</th>\n",
       "      <td>2022</td>\n",
       "      <td>2022</td>\n",
       "    </tr>\n",
       "  </tbody>\n",
       "</table>\n",
       "</div>"
      ],
      "text/plain": [
       "      id  text\n",
       "0   2007  2007\n",
       "1   2008  2008\n",
       "2   2009  2009\n",
       "3   2010  2010\n",
       "4   2011  2011\n",
       "5   2012  2012\n",
       "6   2013  2013\n",
       "7   2014  2014\n",
       "8   2015  2015\n",
       "9   2016  2016\n",
       "10  2017  2017\n",
       "11  2018  2018\n",
       "12  2019  2019\n",
       "13  2020  2020\n",
       "14  2021  2021\n",
       "15  2022  2022"
      ]
     },
     "metadata": {},
     "output_type": "display_data"
    }
   ],
   "source": [
    " for variable in tabsum['variable name']:\n",
    "    print(variable+':')\n",
    "    display(unemp.variable_levels(variable, language='en'))"
   ]
  },
  {
   "cell_type": "markdown",
   "metadata": {},
   "source": [
    "Now we would like to define a param dictionary. \n",
    "\n",
    "We use this param dictonary to detailing the data we want. \n",
    "We would like to look the unemployment rate in different areas in Denmark, while also looking at the different \n",
    "unemployment insurance funds (A-kasse) and their unemployment rates. \n",
    "We therefore would like to take out the data of the sex, age. \n",
    "We use would like the variable \"ydelsestype\" but only want to use Gross unemployment (TOT)."
   ]
  },
  {
   "cell_type": "code",
   "execution_count": 59,
   "metadata": {},
   "outputs": [
    {
     "data": {
      "text/plain": [
       "{'table': 'aul01',\n",
       " 'format': 'BULK',\n",
       " 'lang': 'en',\n",
       " 'variables': [{'code': 'OMRÅDE', 'values': ['*']},\n",
       "  {'code': 'YDELSESTYPE', 'values': ['*']},\n",
       "  {'code': 'AKASSE', 'values': ['*']},\n",
       "  {'code': 'ALDER', 'values': ['*']},\n",
       "  {'code': 'KØN', 'values': ['*']},\n",
       "  {'code': 'Tid', 'values': ['*']}]}"
      ]
     },
     "execution_count": 59,
     "metadata": {},
     "output_type": "execute_result"
    }
   ],
   "source": [
    "#We start off by defining a template for our param dictionary\n",
    "params = unemp._define_base_params(language='en')\n",
    "params"
   ]
  },
  {
   "cell_type": "markdown",
   "metadata": {},
   "source": [
    "We now use the above to define which of the variables that we want to keep.\n"
   ]
  },
  {
   "cell_type": "code",
   "execution_count": 60,
   "metadata": {},
   "outputs": [],
   "source": [
    "params = {'table': 'aul01',\n",
    " 'format': 'BULK',\n",
    " 'lang': 'en',\n",
    " 'variables': [{'code': 'OMRÅDE', 'values': ['*']},\n",
    "  {'code': 'YDELSESTYPE', 'values': ['TOT']},\n",
    "  {'code': 'AKASSE', 'values': ['*']},\n",
    "  {'code': 'ALDER', 'values': ['TOT']},\n",
    "  {'code': 'KØN', 'values': ['TOT']},\n",
    "  {'code': 'Tid', 'values': ['*']}]}"
   ]
  },
  {
   "cell_type": "markdown",
   "metadata": {},
   "source": [
    "We are now ready to load our data from the dst database, by using the api that utilizes the data we sepcified in the param dictionary. "
   ]
  },
  {
   "cell_type": "code",
   "execution_count": 61,
   "metadata": {},
   "outputs": [
    {
     "data": {
      "text/html": [
       "<div>\n",
       "<style scoped>\n",
       "    .dataframe tbody tr th:only-of-type {\n",
       "        vertical-align: middle;\n",
       "    }\n",
       "\n",
       "    .dataframe tbody tr th {\n",
       "        vertical-align: top;\n",
       "    }\n",
       "\n",
       "    .dataframe thead th {\n",
       "        text-align: right;\n",
       "    }\n",
       "</style>\n",
       "<table border=\"1\" class=\"dataframe\">\n",
       "  <thead>\n",
       "    <tr style=\"text-align: right;\">\n",
       "      <th></th>\n",
       "      <th>OMRÅDE</th>\n",
       "      <th>YDELSESTYPE</th>\n",
       "      <th>AKASSE</th>\n",
       "      <th>ALDER</th>\n",
       "      <th>KØN</th>\n",
       "      <th>TID</th>\n",
       "      <th>INDHOLD</th>\n",
       "    </tr>\n",
       "  </thead>\n",
       "  <tbody>\n",
       "    <tr>\n",
       "      <th>0</th>\n",
       "      <td>Province Byen København</td>\n",
       "      <td>Gross unemployment</td>\n",
       "      <td>Handels- og Kontorfunktionærer (HK)</td>\n",
       "      <td>Age, total</td>\n",
       "      <td>Total</td>\n",
       "      <td>2018</td>\n",
       "      <td>1220</td>\n",
       "    </tr>\n",
       "    <tr>\n",
       "      <th>1</th>\n",
       "      <td>Province Byen København</td>\n",
       "      <td>Gross unemployment</td>\n",
       "      <td>Kristelig a-kasse</td>\n",
       "      <td>Age, total</td>\n",
       "      <td>Total</td>\n",
       "      <td>2018</td>\n",
       "      <td>1001</td>\n",
       "    </tr>\n",
       "    <tr>\n",
       "      <th>2</th>\n",
       "      <td>Province Byen København</td>\n",
       "      <td>Gross unemployment</td>\n",
       "      <td>Ledere</td>\n",
       "      <td>Age, total</td>\n",
       "      <td>Total</td>\n",
       "      <td>2018</td>\n",
       "      <td>392</td>\n",
       "    </tr>\n",
       "    <tr>\n",
       "      <th>3</th>\n",
       "      <td>Province Byen København</td>\n",
       "      <td>Gross unemployment</td>\n",
       "      <td>Lærere (DLF-A)</td>\n",
       "      <td>Age, total</td>\n",
       "      <td>Total</td>\n",
       "      <td>2018</td>\n",
       "      <td>258</td>\n",
       "    </tr>\n",
       "    <tr>\n",
       "      <th>4</th>\n",
       "      <td>Province Byen København</td>\n",
       "      <td>Gross unemployment</td>\n",
       "      <td>Magistre (MA)</td>\n",
       "      <td>Age, total</td>\n",
       "      <td>Total</td>\n",
       "      <td>2018</td>\n",
       "      <td>1772</td>\n",
       "    </tr>\n",
       "  </tbody>\n",
       "</table>\n",
       "</div>"
      ],
      "text/plain": [
       "                    OMRÅDE         YDELSESTYPE  \\\n",
       "0  Province Byen København  Gross unemployment   \n",
       "1  Province Byen København  Gross unemployment   \n",
       "2  Province Byen København  Gross unemployment   \n",
       "3  Province Byen København  Gross unemployment   \n",
       "4  Province Byen København  Gross unemployment   \n",
       "\n",
       "                                AKASSE       ALDER    KØN   TID  INDHOLD  \n",
       "0  Handels- og Kontorfunktionærer (HK)  Age, total  Total  2018     1220  \n",
       "1                    Kristelig a-kasse  Age, total  Total  2018     1001  \n",
       "2                               Ledere  Age, total  Total  2018      392  \n",
       "3                       Lærere (DLF-A)  Age, total  Total  2018      258  \n",
       "4                        Magistre (MA)  Age, total  Total  2018     1772  "
      ]
     },
     "execution_count": 61,
     "metadata": {},
     "output_type": "execute_result"
    }
   ],
   "source": [
    "unemp_api = unemp.get_data(params=params)\n",
    "unemp_api.head(5)\n"
   ]
  },
  {
   "cell_type": "markdown",
   "metadata": {},
   "source": [
    "We now want to clean our data a bit. \n",
    "\n",
    "As we are only using the Gross employment, we would like to remove this from the output. \n",
    "Moreover we want to take out both age \"alder\" and sex \"køn\" as we have defined that we use total in both of these,\n",
    "so they do not add any valuable information to our output. \n",
    "\n",
    "To do this we use the ... "
   ]
  },
  {
   "cell_type": "code",
   "execution_count": 62,
   "metadata": {},
   "outputs": [
    {
     "name": "stdout",
     "output_type": "stream",
     "text": [
      "['YDELSESTYPE', 'ALDER', 'KØN']\n"
     ]
    },
    {
     "data": {
      "text/html": [
       "<div>\n",
       "<style scoped>\n",
       "    .dataframe tbody tr th:only-of-type {\n",
       "        vertical-align: middle;\n",
       "    }\n",
       "\n",
       "    .dataframe tbody tr th {\n",
       "        vertical-align: top;\n",
       "    }\n",
       "\n",
       "    .dataframe thead th {\n",
       "        text-align: right;\n",
       "    }\n",
       "</style>\n",
       "<table border=\"1\" class=\"dataframe\">\n",
       "  <thead>\n",
       "    <tr style=\"text-align: right;\">\n",
       "      <th></th>\n",
       "      <th>OMRÅDE</th>\n",
       "      <th>AKASSE</th>\n",
       "      <th>TID</th>\n",
       "      <th>INDHOLD</th>\n",
       "    </tr>\n",
       "  </thead>\n",
       "  <tbody>\n",
       "    <tr>\n",
       "      <th>0</th>\n",
       "      <td>Province Byen København</td>\n",
       "      <td>Handels- og Kontorfunktionærer (HK)</td>\n",
       "      <td>2018</td>\n",
       "      <td>1220</td>\n",
       "    </tr>\n",
       "    <tr>\n",
       "      <th>1</th>\n",
       "      <td>Province Byen København</td>\n",
       "      <td>Kristelig a-kasse</td>\n",
       "      <td>2018</td>\n",
       "      <td>1001</td>\n",
       "    </tr>\n",
       "    <tr>\n",
       "      <th>2</th>\n",
       "      <td>Province Byen København</td>\n",
       "      <td>Ledere</td>\n",
       "      <td>2018</td>\n",
       "      <td>392</td>\n",
       "    </tr>\n",
       "    <tr>\n",
       "      <th>3</th>\n",
       "      <td>Province Byen København</td>\n",
       "      <td>Lærere (DLF-A)</td>\n",
       "      <td>2018</td>\n",
       "      <td>258</td>\n",
       "    </tr>\n",
       "    <tr>\n",
       "      <th>4</th>\n",
       "      <td>Province Byen København</td>\n",
       "      <td>Magistre (MA)</td>\n",
       "      <td>2018</td>\n",
       "      <td>1772</td>\n",
       "    </tr>\n",
       "  </tbody>\n",
       "</table>\n",
       "</div>"
      ],
      "text/plain": [
       "                    OMRÅDE                               AKASSE   TID  INDHOLD\n",
       "0  Province Byen København  Handels- og Kontorfunktionærer (HK)  2018     1220\n",
       "1  Province Byen København                    Kristelig a-kasse  2018     1001\n",
       "2  Province Byen København                               Ledere  2018      392\n",
       "3  Province Byen København                       Lærere (DLF-A)  2018      258\n",
       "4  Province Byen København                        Magistre (MA)  2018     1772"
      ]
     },
     "execution_count": 62,
     "metadata": {},
     "output_type": "execute_result"
    }
   ],
   "source": [
    "drop_values = ['YDELSESTYPE', 'ALDER', 'KØN']\n",
    "print(drop_values)\n",
    "\n",
    "unemp_api.drop(drop_values , axis=1, inplace=True)\n",
    "unemp_api.head(5)\n"
   ]
  },
  {
   "cell_type": "markdown",
   "metadata": {},
   "source": [
    "We now would like to make a table showing differnet descriptive statistics"
   ]
  },
  {
   "cell_type": "code",
   "execution_count": 63,
   "metadata": {},
   "outputs": [
    {
     "name": "stdout",
     "output_type": "stream",
     "text": [
      "['Handels- og Kontorfunktionærer (HK)' 'Kristelig a-kasse' 'Ledere'\n",
      " 'Lærere (DLF-A)' 'Magistre (MA)' 'Metalarbejdere'\n",
      " 'Fødevareforbundet (NNF)' 'Selvstændige (DANA) (- dec. 2019)'\n",
      " 'Selvstændige Erhvervsdrivende (ASE)' 'Socialpædagoger (SLA)' 'Teknikere'\n",
      " 'Økonomer (CA)' 'Det Faglige Hus A-kasse'\n",
      " 'Journalistik, Kommunikation og Sprog'\n",
      " 'Akademikernes (fra 1. juli 2013 inkl. ingeniører)'\n",
      " 'Min akasse (jan. 2017 - inkl. Funktionærer og Servicefag)'\n",
      " 'Ikke forsikrede'\n",
      " 'Din Faglige A-kasse (fra 1. januar 2021 inkl. Byggefagenes a-kasse og El-faget)'\n",
      " 'Faglig Fælles a-kasse (3F)' 'Fag og Arbejde (FOA)'\n",
      " 'Min akasse ( - dec. 2014)' 'Total' 'Business ( - dec. 2014)'\n",
      " 'Børne- og Ungdomspædagoger (BUPL-A)' 'Din Sundhedsfaglige A-kasse (DSA)'\n",
      " 'El-faget (- dec. 2020)' 'A-kassen Frie (fra 1. januar 2020 inkl. DANA)'\n",
      " 'Funktionærer og Servicefag ( - dec. 2016)'\n",
      " 'Funktionærer og Tjenestemænd (FTF-A)'\n",
      " 'Træ-Industri-Byg (TIB) ( - dec. 2010)' 'Akademikere (AAK) (- juni 2013)'\n",
      " 'Ingeniører (IAK) (- juni 2013)'\n",
      " 'IT-faget og Merkonomer (PROSA) (-juni 2010)'\n",
      " 'Stats- og Teleansatte (STA) (-juni 2010)'\n",
      " 'Malerfaget og Maritime (- dec. 2007)' 'Blik- og rør (-dec. 2007)']\n"
     ]
    }
   ],
   "source": [
    "#We now show the 'OMRÅDE' All Denmark of unemployed ('INDHOLD') for each year in the serie\n",
    "unique_areas = unemp_api['AKASSE'].unique()\n",
    "print(unique_areas)"
   ]
  },
  {
   "cell_type": "code",
   "execution_count": 64,
   "metadata": {},
   "outputs": [
    {
     "name": "stdout",
     "output_type": "stream",
     "text": [
      "        TID  INDHOLD\n",
      "434    2022    75559\n",
      "3385   2018   107978\n",
      "11552  2015   122542\n",
      "11597  2016   112500\n",
      "11936  2010   163524\n",
      "13506  2013   153117\n",
      "17326  2021   105807\n",
      "23903  2008    73145\n",
      "30154  2007   101401\n",
      "31072  2009   130232\n",
      "35484  2017   116142\n",
      "40687  2019   103979\n",
      "43413  2011   159244\n",
      "48092  2020   131342\n",
      "48209  2012   161242\n",
      "50436  2014   133265\n"
     ]
    }
   ],
   "source": [
    "UnemployedYear = unemp_api[(unemp_api['OMRÅDE'] == 'All Denmark') & (unemp_api['AKASSE'] == 'Total')][['TID', 'INDHOLD']]\n",
    "\n",
    "print(UnemployedYear)"
   ]
  },
  {
   "cell_type": "markdown",
   "metadata": {},
   "source": [
    "**Interactive plot** :"
   ]
  },
  {
   "cell_type": "code",
   "execution_count": 65,
   "metadata": {},
   "outputs": [
    {
     "data": {
      "application/vnd.jupyter.widget-view+json": {
       "model_id": "ead449d0d97143138095145938426e9c",
       "version_major": 2,
       "version_minor": 0
      },
      "text/plain": [
       "interactive(children=(Output(),), _dom_classes=('widget-interact',))"
      ]
     },
     "metadata": {},
     "output_type": "display_data"
    }
   ],
   "source": [
    "def plot_func():\n",
    "    # Function that operates on data set\n",
    "    pass\n",
    "\n",
    "widgets.interact(plot_func, \n",
    "    # Let the widget interact with data through plot_func()    \n",
    "); \n"
   ]
  },
  {
   "cell_type": "markdown",
   "metadata": {},
   "source": [
    "Explain what you see when moving elements of the interactive plot around. "
   ]
  },
  {
   "cell_type": "markdown",
   "metadata": {},
   "source": [
    "# Merge data sets"
   ]
  },
  {
   "cell_type": "markdown",
   "metadata": {},
   "source": [
    "Now you create combinations of your loaded data sets. Remember the illustration of a (inner) **merge**:"
   ]
  },
  {
   "cell_type": "code",
   "execution_count": 66,
   "metadata": {},
   "outputs": [
    {
     "data": {
      "image/png": "[encoded data removed]",
      "text/plain": [
       "<Figure size 1500x700 with 1 Axes>"
      ]
     },
     "metadata": {},
     "output_type": "display_data"
    }
   ],
   "source": [
    "plt.figure(figsize=(15,7))\n",
    "v = venn2(subsets = (4, 4, 10), set_labels = ('Data X', 'Data Y'))\n",
    "v.get_label_by_id('100').set_text('dropped')\n",
    "v.get_label_by_id('010').set_text('dropped' )\n",
    "v.get_label_by_id('110').set_text('included')\n",
    "plt.show()"
   ]
  },
  {
   "cell_type": "markdown",
   "metadata": {},
   "source": [
    "Here we are dropping elements from both data set X and data set Y. A left join would keep all observations in data X intact and subset only from Y. \n",
    "\n",
    "Make sure that your resulting data sets have the correct number of rows and columns. That is, be clear about which observations are thrown away. \n",
    "\n",
    "**Note:** Don't make Venn diagrams in your own data project. It is just for exposition. "
   ]
  },
  {
   "cell_type": "markdown",
   "metadata": {},
   "source": [
    "# Analysis"
   ]
  },
  {
   "cell_type": "markdown",
   "metadata": {},
   "source": [
    "To get a quick overview of the data, we show some **summary statistics** on a meaningful aggregation. "
   ]
  },
  {
   "cell_type": "markdown",
   "metadata": {},
   "source": [
    "MAKE FURTHER ANALYSIS. EXPLAIN THE CODE BRIEFLY AND SUMMARIZE THE RESULTS."
   ]
  },
  {
   "cell_type": "markdown",
   "metadata": {},
   "source": [
    "# Conclusion"
   ]
  },
  {
   "cell_type": "markdown",
   "metadata": {},
   "source": [
    "ADD CONCISE CONLUSION."
   ]
  }
 ],
 "metadata": {
  "kernelspec": {
   "display_name": "base",
   "language": "python",
   "name": "python3"
  },
  "language_info": {
   "codemirror_mode": {
    "name": "ipython",
    "version": 3
   },
   "file_extension": ".py",
   "mimetype": "text/x-python",
   "name": "python",
   "nbconvert_exporter": "python",
   "pygments_lexer": "ipython3",
   "version": "3.11.5"
  },
  "toc-autonumbering": true,
  "vscode": {
   "interpreter": {
    "hash": "47ef90cdf3004d3f859f1fb202523c65c07ba7c22eefd261b181f4744e2d0403"
   }
  }
 },
 "nbformat": 4,
 "nbformat_minor": 4
}
